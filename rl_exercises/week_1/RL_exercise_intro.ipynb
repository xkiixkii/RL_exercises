{
 "cells": [
  {
   "cell_type": "markdown",
   "id": "a37d9151-dcbf-4c7f-8d0b-c697b3fdbc13",
   "metadata": {
    "pycharm": {
     "name": "#%% md\n"
    }
   },
   "source": [
    "# RL Exercise Demo\n",
    "This exercise serves as a demonstration how to quickly train an RL agent on a popular environment with a RL framework.\n",
    "We will\n",
    "1. Select and instantiate environment (gym's BipedalWalker-v3).\n",
    "2. Select and setup our RL algorithm / agent (stablebaselines3 [SAC](https://spinningup.openai.com/en/latest/algorithms/sac.html)).\n",
    "3. Train the agent on the environment and visualize training progress.\n",
    "4. Evaluate our agent and observe the distribution of test performances.\n",
    "5. Record and replay the agent, before and after."
   ]
  },
  {
   "cell_type": "markdown",
   "id": "d3c4b5e2-e487-4b04-8c55-3938b4d82529",
   "metadata": {
    "pycharm": {
     "name": "#%% md\n"
    }
   },
   "source": [
    "## The Environment: Bipedal Walker\n",
    "![Bipedal Walker](bipedal_walker.gif) [credits](https://www.gymlibrary.dev/_images/bipedal_walker.gif)\n",
    "\n",
    "![Interaction Env-Agent](env_agent.png)\n",
    "\n",
    "### Env\n",
    "- locomotion\n",
    "- 4 joints\n",
    "\n",
    "### Action Space\n",
    "- motor speed for all 4 joints (hips and knees) [-1, 1]\n",
    "\n",
    "### Observation Space\n",
    "State consists of\n",
    "- hull angle speed\n",
    "- angular velocity\n",
    "- horizontal speed\n",
    "- vertical speed\n",
    "- position of joints\n",
    "- joints angular speed\n",
    "- legs contact with ground\n",
    "- 10 lidar rangefinder measurements\n",
    "\n",
    "There are no coordinates! State vector with 24 entries.\n",
    "\n",
    "### Rewards\n",
    "Moving forward gives rewards.\n",
    "Falling is punished.\n",
    "Applying motor torque costs a little.\n",
    "\n",
    "\n",
    "### Starting State\n",
    "Stands at the left in a certain position.\n",
    "\n",
    "### Episode Termination\n",
    "- walker falls\n",
    "- or reaches end of terrain\n"
   ]
  },
  {
   "cell_type": "code",
   "execution_count": null,
   "id": "22de499d-f2cd-4d95-b61b-1827650d001b",
   "metadata": {
    "pycharm": {
     "name": "#%%\n"
    }
   },
   "outputs": [],
   "source": [
    "import pandas as pd\n",
    "\n",
    "model_fn = \"trained_agent.zip\"\n",
    "env_id = \"BipedalWalker-v3\"\n",
    "log_dir = \"logs/tensorboard\""
   ]
  },
  {
   "cell_type": "markdown",
   "id": "a267d6a0-dcd5-42d2-83e2-a70cf4518e36",
   "metadata": {
    "pycharm": {
     "name": "#%% md\n"
    }
   },
   "source": [
    "## The Agent: SAC\n",
    "SAC: Soft Actor Critic\n",
    "[[paper]](https://arxiv.org/abs/1801.01290) [[blogpost]](https://spinningup.openai.com/en/latest/algorithms/sac.html)\n",
    "\n",
    "- off-policy algorithm\n",
    "- for continuous actions\n",
    "- one actor, one critic\n",
    "- special regularization to steer exploration-exploitation trade-off "
   ]
  },
  {
   "cell_type": "code",
   "execution_count": null,
   "id": "6b794a7c-86f1-4675-aa8f-9e81f2ca4f4b",
   "metadata": {
    "pycharm": {
     "name": "#%%\n"
    }
   },
   "outputs": [],
   "source": [
    "import gymnasium as gym\n",
    "from stable_baselines3 import SAC\n",
    "\n",
    "env = gym.make(env_id)\n",
    "model = SAC(\"MlpPolicy\", env, verbose=1, tensorboard_log=log_dir)\n",
    "model.learn(total_timesteps=500_000)\n",
    "model.save(model_fn)"
   ]
  },
  {
   "cell_type": "markdown",
   "id": "f3c528b3-c890-4d43-9854-6af07bfcc94f",
   "metadata": {
    "pycharm": {
     "name": "#%% md\n"
    }
   },
   "source": [
    "# Rollout"
   ]
  },
  {
   "cell_type": "markdown",
   "id": "a7383350",
   "metadata": {},
   "source": [
    "## Evaluate Trained and Random Agent"
   ]
  },
  {
   "cell_type": "code",
   "execution_count": null,
   "id": "c0cea3d9",
   "metadata": {},
   "outputs": [],
   "source": [
    "import gymnasium as gym\n",
    "import pandas as pd\n",
    "import numpy as np\n",
    "from stable_baselines3.common.vec_env import DummyVecEnv\n",
    "from stable_baselines3.common.evaluation import evaluate_policy\n",
    "from stable_baselines3.common.monitor import Monitor\n",
    "from stable_baselines3 import SAC\n",
    "\n",
    "\n",
    "n_eval_episodes = 10\n",
    "\n",
    "\n",
    "# Create/ load agents\n",
    "\n",
    "# Untrained agent\n",
    "env = gym.make(env_id)\n",
    "untrained_agent = SAC(\"MlpPolicy\", env, verbose=0)\n",
    "\n",
    "# Trained agents\n",
    "trained_agent = SAC.load(model_fn)\n",
    "\n",
    "agents = {\n",
    "    \"untrained\": untrained_agent,\n",
    "    \"trained\": trained_agent,\n",
    "}\n",
    "\n",
    "# Create env to evaluate\n",
    "env = DummyVecEnv([lambda: gym.make(env_id)])\n",
    "env = Monitor(gym.make(env_id))\n",
    "\n",
    "# Evaluate each agent and gather results\n",
    "results = []\n",
    "for name, agent in agents.items():\n",
    "    # Rollout n_eval_episodes and record performance\n",
    "    means, stds = evaluate_policy(agent, env, n_eval_episodes=n_eval_episodes, return_episode_rewards=True)\n",
    "    performance = np.mean(means)\n",
    "    results.append(\n",
    "        pd.DataFrame(\n",
    "            {\n",
    "                \"agent\": name,\n",
    "                \"episode\": np.arange(0, n_eval_episodes),\n",
    "                \"reward\": means,\n",
    "                \"length\": stds,\n",
    "            }\n",
    "        )\n",
    "    )\n",
    "results = pd.concat(results).reset_index(drop=True)"
   ]
  },
  {
   "cell_type": "code",
   "execution_count": null,
   "id": "a876b14e",
   "metadata": {},
   "outputs": [],
   "source": [
    "from rich import print as printr\n",
    "import seaborn as sns\n",
    "import matplotlib.pyplot as plt\n",
    "\n",
    "df = results\n",
    "printr(df)\n",
    "\n",
    "ax = sns.boxplot(data=df, x=\"agent\", y=\"reward\")\n",
    "plt.show()\n",
    "\n",
    "sns.boxplot(data=df, x=\"agent\", y=\"length\")\n",
    "plt.show()"
   ]
  },
  {
   "cell_type": "code",
   "execution_count": null,
   "metadata": {
    "collapsed": false,
    "pycharm": {
     "name": "#%%\n"
    }
   },
   "outputs": [],
   "source": [
    "video_folder = \"logs/videos/\"\n",
    "video_length = 1000"
   ]
  },
  {
   "cell_type": "markdown",
   "metadata": {
    "collapsed": false,
    "pycharm": {
     "name": "#%% md\n"
    }
   },
   "source": [
    "## Record random agent"
   ]
  },
  {
   "cell_type": "code",
   "execution_count": null,
   "metadata": {
    "collapsed": false,
    "pycharm": {
     "name": "#%%\n"
    }
   },
   "outputs": [],
   "source": [
    "import gymnasium as gym\n",
    "from stable_baselines3.common.vec_env import VecVideoRecorder, DummyVecEnv\n",
    "\n",
    "# This creates a vectorized env (here of length 1). Is useful for parallelization\n",
    "# when we have several workers that can perform individual rollouts.\n",
    "env = DummyVecEnv([lambda: gym.make(env_id, render_mode=\"rgb_array\")])\n",
    "\n",
    "env = VecVideoRecorder(\n",
    "    env,\n",
    "    video_folder,\n",
    "    record_video_trigger=lambda x: x == 0,\n",
    "    video_length=video_length,\n",
    "    name_prefix=f\"random-agent-{env_id}\",\n",
    ")\n",
    "\n",
    "n_steps = video_length\n",
    "\n",
    "# Reset and initialize the environment\n",
    "obs = env.reset()\n",
    "\n",
    "# For the number of frames\n",
    "for i in range(n_steps):\n",
    "    # Sample a random action from the action space\n",
    "    action = [env.action_space.sample()]\n",
    "\n",
    "    # Step the environment\n",
    "    obs, reward, done, info = env.step(action)\n",
    "    if done:\n",
    "        # If the env signals the end of the episode, stop recording\n",
    "        break\n",
    "        obs = env.reset()\n",
    "# Close / cleanup env\n",
    "env.close()"
   ]
  },
  {
   "cell_type": "markdown",
   "metadata": {
    "collapsed": false,
    "pycharm": {
     "name": "#%% md\n"
    }
   },
   "source": [
    "## Record trained agent"
   ]
  },
  {
   "cell_type": "code",
   "execution_count": null,
   "metadata": {
    "collapsed": false,
    "pycharm": {
     "name": "#%%\n"
    }
   },
   "outputs": [],
   "source": [
    "from stable_baselines3 import SAC\n",
    "import gymnasium as gym\n",
    "from stable_baselines3.common.vec_env import VecVideoRecorder, DummyVecEnv\n",
    "\n",
    "env = DummyVecEnv([lambda: gym.make(env_id, render_mode=\"rgb_array\")])\n",
    "\n",
    "# Record the video starting at the first step\n",
    "env = VecVideoRecorder(\n",
    "    env,\n",
    "    video_folder,\n",
    "    record_video_trigger=lambda x: x == 0,\n",
    "    video_length=video_length,\n",
    "    name_prefix=f\"trained-agent-{env_id}\",\n",
    ")\n",
    "\n",
    "model = SAC.load(model_fn)\n",
    "\n",
    "n_steps = video_length\n",
    "\n",
    "obs = env.reset()\n",
    "for i in range(n_steps):\n",
    "    # Now PREDICT the action to take with the trained model 🤖\n",
    "    action, _states = model.predict(obs, deterministic=True)\n",
    "    obs, reward, done, info = env.step(action)\n",
    "    if done:\n",
    "        break\n",
    "        obs = env.reset()\n",
    "env.close()"
   ]
  }
 ],
 "metadata": {
  "kernelspec": {
   "display_name": "Python 3.10.6 ('rl01')",
   "language": "python",
   "name": "python3"
  },
  "language_info": {
   "codemirror_mode": {
    "name": "ipython",
    "version": 3
   },
   "file_extension": ".py",
   "mimetype": "text/x-python",
   "name": "python",
   "nbconvert_exporter": "python",
   "pygments_lexer": "ipython3",
   "version": "3.10.11"
  },
  "vscode": {
   "interpreter": {
    "hash": "35e7773a79db726e11d192af5488f5d19ce21229b688da98759b0df31201ec10"
   }
  }
 },
 "nbformat": 4,
 "nbformat_minor": 5
}
